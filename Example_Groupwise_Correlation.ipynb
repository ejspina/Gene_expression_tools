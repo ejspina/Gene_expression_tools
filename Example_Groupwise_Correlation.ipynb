{
 "cells": [
  {
   "cell_type": "code",
   "execution_count": 43,
   "metadata": {
    "collapsed": true
   },
   "outputs": [],
   "source": [
    "import sys, getopt, math\n",
    "import itertools as  itt\n",
    "from scipy.stats.stats import pearsonr\n",
    "x2reps = ['xa1', 'xa2', 'xb1', 'xb2', 'xc1', 'xc2', 'xd1', 'xd2']\n",
    "y2reps = ['ya1', 'ya2', 'yb1', 'yb2', 'yc1', 'yc2', 'yd1', 'yd2']\n",
    "x3reps = ['xa1', 'xa2', 'xa3', 'xb1', 'xb2', 'xb3', 'xc1', 'xc2', 'xc3', 'xd1', 'xd2', 'xd3']\n",
    "y3reps = ['ya1', 'ya2', 'ya3', 'yb1', 'yb2', 'yb3', 'yc1', 'yc2', 'yc3', 'yd1', 'yd2', 'yd3']\n",
    "x4reps = ['xa1', 'xa2', 'xa3', 'xa4', 'xb1', 'xb2', 'xb3', 'xb4', 'xc1', 'xc2', 'xc3', 'xc4', 'xd1', 'xd2', 'xd3', 'xd4']\n",
    "y4reps = ['ya1', 'ya2', 'ya3', 'ya4', 'yb1', 'yb2', 'yb3', 'yb4', 'yc1', 'yc2', 'yc3', 'yc4', 'yd1', 'yd2', 'yd3', 'yd4']\n",
    "x23reps = ['xa1', 'xa2', 'xb1', 'xb2', 'xc1', 'xc2', 'xc3', 'xd1', 'xd2', 'xd3']\n",
    "y23reps = ['ya1', 'ya2', 'yb1', 'yb2', 'yc1', 'yc2', 'yc3', 'yd1', 'yd2', 'yd3']"
   ]
  },
  {
   "cell_type": "code",
   "execution_count": 61,
   "metadata": {
    "collapsed": true
   },
   "outputs": [],
   "source": [
    "def parse_replicates(data_in, replicates):\n",
    "    group_data= []\n",
    "    #data_in = [array of ungrouped replicate data]\n",
    "    start = 0\n",
    "    end = replicates[0]\n",
    "    for i in range(0,len(replicates)):\n",
    "        group_data.append(data_in[start:end])\n",
    "        start = end\n",
    "        if i == len(replicates)-1:\n",
    "            end = end + replicates[i]\n",
    "        else:\n",
    "            end = end + replicates[i+1]\n",
    "    return group_data"
   ]
  },
  {
   "cell_type": "code",
   "execution_count": 62,
   "metadata": {
    "collapsed": false
   },
   "outputs": [
    {
     "data": {
      "text/plain": [
       "[['xa1', 'xa2'], ['xb1', 'xb2'], ['xc1', 'xc2', 'xc3'], ['xd1', 'xd2', 'xd3']]"
      ]
     },
     "execution_count": 62,
     "metadata": {},
     "output_type": "execute_result"
    }
   ],
   "source": [
    "x2parse = parse_replicates(x2reps, [2,2,2,2])\n",
    "y2parse = parse_replicates(y2reps, [2,2,2,2])\n",
    "x3parse = parse_replicates(x3reps, [3,3,3,3])\n",
    "y3parse = parse_replicates(y3reps, [3,3,3,3])\n",
    "x4parse = parse_replicates(x4reps, [4,4,4,4])\n",
    "y4parse = parse_replicates(y4reps, [4,4,4,4])\n",
    "x23parse = parse_replicates(x23reps, [2,2,3,3])\n",
    "y23parse = parse_replicates(y23reps, [2,2,3,3])\n",
    "x23parse"
   ]
  },
  {
   "cell_type": "code",
   "execution_count": 70,
   "metadata": {
    "collapsed": false
   },
   "outputs": [
    {
     "name": "stdout",
     "output_type": "stream",
     "text": [
      "2\n",
      "6\n",
      "24\n",
      "6\n"
     ]
    },
    {
     "data": {
      "text/plain": [
       "[[('xa1', 'xa2'), ('xa2', 'xa1')],\n",
       " [('xb1', 'xb2'), ('xb2', 'xb1')],\n",
       " [('xc1', 'xc2', 'xc3'),\n",
       "  ('xc1', 'xc3', 'xc2'),\n",
       "  ('xc2', 'xc1', 'xc3'),\n",
       "  ('xc2', 'xc3', 'xc1'),\n",
       "  ('xc3', 'xc1', 'xc2'),\n",
       "  ('xc3', 'xc2', 'xc1')],\n",
       " [('xd1', 'xd2', 'xd3'),\n",
       "  ('xd1', 'xd3', 'xd2'),\n",
       "  ('xd2', 'xd1', 'xd3'),\n",
       "  ('xd2', 'xd3', 'xd1'),\n",
       "  ('xd3', 'xd1', 'xd2'),\n",
       "  ('xd3', 'xd2', 'xd1')]]"
      ]
     },
     "execution_count": 70,
     "metadata": {},
     "output_type": "execute_result"
    }
   ],
   "source": [
    "x2perm = [list(itt.permutations(x, len(x))) for x in x2parse]\n",
    "y2perm = [list(itt.permutations(y, len(y))) for y in y2parse]\n",
    "x3perm = [list(itt.permutations(x, len(x))) for x in x3parse]\n",
    "y3perm = [list(itt.permutations(y, len(y))) for y in y3parse]\n",
    "x4perm = [list(itt.permutations(x, len(x))) for x in x4parse]\n",
    "y4perm = [list(itt.permutations(y, len(y))) for y in y4parse]\n",
    "x23perm = [list(itt.permutations(x, len(x))) for x in x23parse]\n",
    "y23perm = [list(itt.permutations(y, len(y))) for y in y23parse]\n",
    "print len(x2perm[0])\n",
    "print len(x3perm[0])\n",
    "print len(x4perm[0])\n",
    "print len(x23perm[2])\n",
    "x23perm"
   ]
  },
  {
   "cell_type": "code",
   "execution_count": 67,
   "metadata": {
    "collapsed": false
   },
   "outputs": [
    {
     "data": {
      "text/plain": [
       "[([('xa1', 'xa2', 'xa3'),\n",
       "   ('xa1', 'xa3', 'xa2'),\n",
       "   ('xa2', 'xa1', 'xa3'),\n",
       "   ('xa2', 'xa3', 'xa1'),\n",
       "   ('xa3', 'xa1', 'xa2'),\n",
       "   ('xa3', 'xa2', 'xa1')],\n",
       "  [('ya1', 'ya2'), ('ya2', 'ya1')]),\n",
       " ([('xb1', 'xb2', 'xb3'),\n",
       "   ('xb1', 'xb3', 'xb2'),\n",
       "   ('xb2', 'xb1', 'xb3'),\n",
       "   ('xb2', 'xb3', 'xb1'),\n",
       "   ('xb3', 'xb1', 'xb2'),\n",
       "   ('xb3', 'xb2', 'xb1')],\n",
       "  [('yb1', 'yb2'), ('yb2', 'yb1')]),\n",
       " ([('xc1', 'xc2', 'xc3'),\n",
       "   ('xc1', 'xc3', 'xc2'),\n",
       "   ('xc2', 'xc1', 'xc3'),\n",
       "   ('xc2', 'xc3', 'xc1'),\n",
       "   ('xc3', 'xc1', 'xc2'),\n",
       "   ('xc3', 'xc2', 'xc1')],\n",
       "  [('yc1', 'yc2', 'yc3'),\n",
       "   ('yc1', 'yc3', 'yc2'),\n",
       "   ('yc2', 'yc1', 'yc3'),\n",
       "   ('yc2', 'yc3', 'yc1'),\n",
       "   ('yc3', 'yc1', 'yc2'),\n",
       "   ('yc3', 'yc2', 'yc1')]),\n",
       " ([('xd1', 'xd2', 'xd3'),\n",
       "   ('xd1', 'xd3', 'xd2'),\n",
       "   ('xd2', 'xd1', 'xd3'),\n",
       "   ('xd2', 'xd3', 'xd1'),\n",
       "   ('xd3', 'xd1', 'xd2'),\n",
       "   ('xd3', 'xd2', 'xd1')],\n",
       "  [('yd1', 'yd2', 'yd3'),\n",
       "   ('yd1', 'yd3', 'yd2'),\n",
       "   ('yd2', 'yd1', 'yd3'),\n",
       "   ('yd2', 'yd3', 'yd1'),\n",
       "   ('yd3', 'yd1', 'yd2'),\n",
       "   ('yd3', 'yd2', 'yd1')])]"
      ]
     },
     "execution_count": 67,
     "metadata": {},
     "output_type": "execute_result"
    }
   ],
   "source": [
    "zip2reps = zip(x2perm, y2perm)\n",
    "zip23reps = zip(x3perm, y23perm)\n",
    "zip23reps"
   ]
  },
  {
   "cell_type": "code",
   "execution_count": 36,
   "metadata": {
    "collapsed": false
   },
   "outputs": [
    {
     "name": "stdout",
     "output_type": "stream",
     "text": [
      "8\n",
      "64\n",
      "16\n",
      "[('xa1', 'ya1'), ('xa1', 'ya2'), ('xa1', 'yb1'), ('xa1', 'yb2'), ('xa1', 'yc1'), ('xa1', 'yc2'), ('xa1', 'yd1'), ('xa1', 'yd2'), ('xa2', 'ya1'), ('xa2', 'ya2'), ('xa2', 'yb1'), ('xa2', 'yb2'), ('xa2', 'yc1'), ('xa2', 'yc2'), ('xa2', 'yd1'), ('xa2', 'yd2'), ('xb1', 'ya1'), ('xb1', 'ya2'), ('xb1', 'yb1'), ('xb1', 'yb2'), ('xb1', 'yc1'), ('xb1', 'yc2'), ('xb1', 'yd1'), ('xb1', 'yd2'), ('xb2', 'ya1'), ('xb2', 'ya2'), ('xb2', 'yb1'), ('xb2', 'yb2'), ('xb2', 'yc1'), ('xb2', 'yc2'), ('xb2', 'yd1'), ('xb2', 'yd2'), ('xc1', 'ya1'), ('xc1', 'ya2'), ('xc1', 'yb1'), ('xc1', 'yb2'), ('xc1', 'yc1'), ('xc1', 'yc2'), ('xc1', 'yd1'), ('xc1', 'yd2'), ('xc2', 'ya1'), ('xc2', 'ya2'), ('xc2', 'yb1'), ('xc2', 'yb2'), ('xc2', 'yc1'), ('xc2', 'yc2'), ('xc2', 'yd1'), ('xc2', 'yd2'), ('xd1', 'ya1'), ('xd1', 'ya2'), ('xd1', 'yb1'), ('xd1', 'yb2'), ('xd1', 'yc1'), ('xd1', 'yc2'), ('xd1', 'yd1'), ('xd1', 'yd2'), ('xd2', 'ya1'), ('xd2', 'ya2'), ('xd2', 'yb1'), ('xd2', 'yb2'), ('xd2', 'yc1'), ('xd2', 'yc2'), ('xd2', 'yd1'), ('xd2', 'yd2')]\n",
      "[([('xa1', 'xa2'), ('xa2', 'xa1')], [('ya1', 'ya2'), ('ya2', 'ya1')]), ([('xa1', 'xa2'), ('xa2', 'xa1')], [('yb1', 'yb2'), ('yb2', 'yb1')]), ([('xa1', 'xa2'), ('xa2', 'xa1')], [('yc1', 'yc2'), ('yc2', 'yc1')]), ([('xa1', 'xa2'), ('xa2', 'xa1')], [('yd1', 'yd2'), ('yd2', 'yd1')]), ([('xb1', 'xb2'), ('xb2', 'xb1')], [('ya1', 'ya2'), ('ya2', 'ya1')]), ([('xb1', 'xb2'), ('xb2', 'xb1')], [('yb1', 'yb2'), ('yb2', 'yb1')]), ([('xb1', 'xb2'), ('xb2', 'xb1')], [('yc1', 'yc2'), ('yc2', 'yc1')]), ([('xb1', 'xb2'), ('xb2', 'xb1')], [('yd1', 'yd2'), ('yd2', 'yd1')]), ([('xc1', 'xc2'), ('xc2', 'xc1')], [('ya1', 'ya2'), ('ya2', 'ya1')]), ([('xc1', 'xc2'), ('xc2', 'xc1')], [('yb1', 'yb2'), ('yb2', 'yb1')]), ([('xc1', 'xc2'), ('xc2', 'xc1')], [('yc1', 'yc2'), ('yc2', 'yc1')]), ([('xc1', 'xc2'), ('xc2', 'xc1')], [('yd1', 'yd2'), ('yd2', 'yd1')]), ([('xd1', 'xd2'), ('xd2', 'xd1')], [('ya1', 'ya2'), ('ya2', 'ya1')]), ([('xd1', 'xd2'), ('xd2', 'xd1')], [('yb1', 'yb2'), ('yb2', 'yb1')]), ([('xd1', 'xd2'), ('xd2', 'xd1')], [('yc1', 'yc2'), ('yc2', 'yc1')]), ([('xd1', 'xd2'), ('xd2', 'xd1')], [('yd1', 'yd2'), ('yd2', 'yd1')])]\n"
     ]
    }
   ],
   "source": [
    "product2reps = list(itt.product(x2reps, y2reps))\n",
    "product2perms = list(itt.product(x2perm, y2perm))\n",
    "print len(x2reps)\n",
    "print len(product2reps)\n",
    "print len(product2perms)\n",
    "print product2reps\n",
    "print product2perms"
   ]
  },
  {
   "cell_type": "code",
   "execution_count": 82,
   "metadata": {
    "collapsed": false
   },
   "outputs": [
    {
     "data": {
      "text/plain": [
       "[[[('xa1', 'ya1'), ('xa2', 'ya2')], [('xa1', 'ya2'), ('xa2', 'ya1')]],\n",
       " [[('xb1', 'yb1'), ('xb2', 'yb2')], [('xb1', 'yb2'), ('xb2', 'yb1')]],\n",
       " [[('xc1', 'yc1'), ('xc2', 'yc2')], [('xc1', 'yc2'), ('xc2', 'yc1')]],\n",
       " [[('xd1', 'yd1'), ('xd2', 'yd2')], [('xd1', 'yd2'), ('xd2', 'yd1')]]]"
      ]
     },
     "execution_count": 82,
     "metadata": {},
     "output_type": "execute_result"
    }
   ],
   "source": [
    "[[zip(j,k) for j,k in list(itt.product(x,y))[0:((len(x)+len(y))/2)]] for x,y in zip(x2perm,y2perm)]"
   ]
  },
  {
   "cell_type": "code",
   "execution_count": 81,
   "metadata": {
    "collapsed": false
   },
   "outputs": [
    {
     "data": {
      "text/plain": [
       "[[[('xa1', 'ya1'), ('xa2', 'ya2')],\n",
       "  [('xa1', 'ya2'), ('xa2', 'ya1')],\n",
       "  [('xa1', 'ya1'), ('xa3', 'ya2')],\n",
       "  [('xa1', 'ya2'), ('xa3', 'ya1')]],\n",
       " [[('xb1', 'yb1'), ('xb2', 'yb2')],\n",
       "  [('xb1', 'yb2'), ('xb2', 'yb1')],\n",
       "  [('xb1', 'yb1'), ('xb3', 'yb2')],\n",
       "  [('xb1', 'yb2'), ('xb3', 'yb1')]],\n",
       " [[('xc1', 'yc1'), ('xc2', 'yc2'), ('xc3', 'yc3')],\n",
       "  [('xc1', 'yc1'), ('xc2', 'yc3'), ('xc3', 'yc2')],\n",
       "  [('xc1', 'yc2'), ('xc2', 'yc1'), ('xc3', 'yc3')],\n",
       "  [('xc1', 'yc2'), ('xc2', 'yc3'), ('xc3', 'yc1')],\n",
       "  [('xc1', 'yc3'), ('xc2', 'yc1'), ('xc3', 'yc2')],\n",
       "  [('xc1', 'yc3'), ('xc2', 'yc2'), ('xc3', 'yc1')]],\n",
       " [[('xd1', 'yd1'), ('xd2', 'yd2'), ('xd3', 'yd3')],\n",
       "  [('xd1', 'yd1'), ('xd2', 'yd3'), ('xd3', 'yd2')],\n",
       "  [('xd1', 'yd2'), ('xd2', 'yd1'), ('xd3', 'yd3')],\n",
       "  [('xd1', 'yd2'), ('xd2', 'yd3'), ('xd3', 'yd1')],\n",
       "  [('xd1', 'yd3'), ('xd2', 'yd1'), ('xd3', 'yd2')],\n",
       "  [('xd1', 'yd3'), ('xd2', 'yd2'), ('xd3', 'yd1')]]]"
      ]
     },
     "execution_count": 81,
     "metadata": {},
     "output_type": "execute_result"
    }
   ],
   "source": [
    "#[itt.product(x,y) for x,y in x2zip]\n",
    "[[zip(j,k) for j,k in list(itt.product(x,y))[0:((len(x)+len(y))/2)]] for x,y in zip(x3perm,y23perm)]"
   ]
  },
  {
   "cell_type": "code",
   "execution_count": 15,
   "metadata": {
    "collapsed": true
   },
   "outputs": [],
   "source": [
    "def get_comb(x_in, y_in, reps):\n",
    "    xparse = parse_replicates(x_in, reps)\n",
    "    yparse = parse_replicates(y_in, reps)\n",
    "    xperm = [list(itt.permutations(x, len(x))) for x in xparse]\n",
    "    yperm = [list(itt.permutations(y, len(y))) for y in yparse]\n",
    "    comb = [[zip(j,k) for j,k in list(itt.product(x,y))[0:]] for x,y in zip(xperm,yperm)]\n",
    "    return comb"
   ]
  },
  {
   "cell_type": "code",
   "execution_count": null,
   "metadata": {
    "collapsed": true
   },
   "outputs": [],
   "source": []
  }
 ],
 "metadata": {
  "kernelspec": {
   "display_name": "Python 2",
   "language": "python",
   "name": "python2"
  },
  "language_info": {
   "codemirror_mode": {
    "name": "ipython",
    "version": 2
   },
   "file_extension": ".py",
   "mimetype": "text/x-python",
   "name": "python",
   "nbconvert_exporter": "python",
   "pygments_lexer": "ipython2",
   "version": "2.7.5"
  }
 },
 "nbformat": 4,
 "nbformat_minor": 0
}
